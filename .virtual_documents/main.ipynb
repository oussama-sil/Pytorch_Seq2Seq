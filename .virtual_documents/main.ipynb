!conda activate


from dataloader import TranslationDataset,collate_fn
import spacy 
from torch.utils.data import Dataset,DataLoader






# Spacy models to manipulate the text 
spacy_de = spacy.load('de_core_news_sm')
spacy_en = spacy.load('en_core_web_sm')


# Loading the data in a custom dataset 
train_dataset = TranslationDataset(
        './data/train_in.txt',
        './data/train_out.txt',
        './data/train_vocab_in.txt',
        './data/train_vocab_out.txt',
        spacy_de,spacy_en,max_seq_length=10
    )


vocab_in,vocab_out = train_dataset.get_vocab()
print(vocab_in)


train_dataset_iter = iter(train_dataset)


# Priniting an example of dataset 
x,y,x_ind,y_ind,x_token,y_token = next(train_dataset_iter)
print(x)
print(x_ind)
print(x_token)


# The dataset loader 
train_loader = DataLoader(dataset=train_dataset,batch_size=128,shuffle=True,collate_fn=collate_fn)


train_dataloader_iter = iter(train_loader)


# Printing some examples
x_ind_pad,y_ind_pad,lengths_x,lengths_y,x,y,x_token,y_token = next(train_dataloader_iter)
print(x_ind_pad)
print(lengths_x)
print(x)
print(x_token)



